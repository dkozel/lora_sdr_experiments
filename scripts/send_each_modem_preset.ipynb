{
 "cells": [
  {
   "cell_type": "code",
   "execution_count": null,
   "id": "b338f096",
   "metadata": {},
   "outputs": [],
   "source": [
    "import meshtastic.serial_interface\n",
    "from pubsub import pub\n",
    "import json\n",
    "import time"
   ]
  },
  {
   "cell_type": "code",
   "execution_count": null,
   "id": "230460e1",
   "metadata": {},
   "outputs": [],
   "source": [
    "interface = meshtastic.serial_interface.SerialInterface()\n",
    "ourNode = interface.getNode('^local')"
   ]
  },
  {
   "cell_type": "code",
   "execution_count": null,
   "id": "31a2156a",
   "metadata": {},
   "outputs": [],
   "source": [
    "from meshtastic.node import Node\n",
    "from meshtastic.protobuf import config_pb2, admin_pb2\n",
    "\n",
    "def getLoRaModemPreset(ourNode: Node):\n",
    "    ourNode.requestConfig(admin_pb2.AdminMessage.LORA_CONFIG)\n",
    "    ourNode.waitForConfig()\n",
    "    modem_preset_val = ourNode.localConfig.lora.modem_preset\n",
    "    return modem_preset_val\n",
    "\n",
    "def setLoRaModemPreset(ourNode: Node, preset: int):\n",
    "    ourNode.requestConfig(admin_pb2.AdminMessage.LORA_CONFIG)\n",
    "    ourNode.waitForConfig()\n",
    "    ourNode.localConfig.lora.modem_preset = preset\n",
    "    ourNode.writeConfig(\"lora\")\n",
    "\n",
    "def toName(value: config_pb2.Config.LoRaConfig.ModemPreset.ValueType) -> str:\n",
    "    return config_pb2.Config.LoRaConfig.ModemPreset.Name(value)"
   ]
  },
  {
   "cell_type": "code",
   "execution_count": null,
   "id": "5b8287f3",
   "metadata": {},
   "outputs": [],
   "source": [
    "def setOverrideDutyCycle(ourNode: Node, enabled: bool):\n",
    "    ourNode.requestConfig(admin_pb2.AdminMessage.LORA_CONFIG)\n",
    "    ourNode.waitForConfig()\n",
    "    ourNode.localConfig.lora.override_duty_cycle = enabled\n",
    "    ourNode.writeConfig(\"lora\")"
   ]
  },
  {
   "cell_type": "code",
   "execution_count": null,
   "id": "aa5efde2",
   "metadata": {},
   "outputs": [],
   "source": [
    "def onReceive(packet, interface):\n",
    "    try:\n",
    "        if 'decoded' in packet and packet['decoded']['portnum'] == 'TEXT_MESSAGE_APP':\n",
    "            message_bytes = packet['decoded']['payload']\n",
    "            message_string = message_bytes.decode('utf-8')\n",
    "            print(f\"{message_string} \\n> \", end=\"\", flush=True)\n",
    "    except KeyError as e:\n",
    "        print(f\"Error processing packet: {e}\")\n",
    "\n",
    "pub.subscribe(onReceive, 'meshtastic.receive')\n",
    "\n",
    "def send_message(message):\n",
    "    interface.sendText(message)"
   ]
  },
  {
   "cell_type": "code",
   "execution_count": null,
   "id": "646e7c88",
   "metadata": {},
   "outputs": [],
   "source": [
    "setOverrideDutyCycle(ourNode, False)\n",
    "time.sleep(1)"
   ]
  },
  {
   "cell_type": "code",
   "execution_count": null,
   "id": "b9dccf26",
   "metadata": {},
   "outputs": [],
   "source": [
    "for modem_preset in config_pb2.Config.LoRaConfig.ModemPreset.values():\n",
    "    print(f\"Setting LoRa Modem Preset to {toName(modem_preset)}\")\n",
    "    setLoRaModemPreset(ourNode, modem_preset)\n",
    "    time.sleep(2)\n",
    "    send_message(f\"Modem {toName(modem_preset)}\")\n",
    "    time.sleep(1)"
   ]
  },
  {
   "cell_type": "code",
   "execution_count": null,
   "id": "f06606bf",
   "metadata": {},
   "outputs": [],
   "source": [
    "interface.close()"
   ]
  }
 ],
 "metadata": {
  "kernelspec": {
   "display_name": "meshtastic",
   "language": "python",
   "name": "python3"
  },
  "language_info": {
   "codemirror_mode": {
    "name": "ipython",
    "version": 3
   },
   "file_extension": ".py",
   "mimetype": "text/x-python",
   "name": "python",
   "nbconvert_exporter": "python",
   "pygments_lexer": "ipython3",
   "version": "3.13.5"
  }
 },
 "nbformat": 4,
 "nbformat_minor": 5
}
